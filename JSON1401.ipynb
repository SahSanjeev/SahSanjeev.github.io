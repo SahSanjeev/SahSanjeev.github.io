{
  "nbformat": 4,
  "nbformat_minor": 0,
  "metadata": {
    "colab": {
      "provenance": [],
      "authorship_tag": "ABX9TyN727tqv3QbxVO3VpfYNndm",
      "include_colab_link": true
    },
    "kernelspec": {
      "name": "python3",
      "display_name": "Python 3"
    },
    "language_info": {
      "name": "python"
    }
  },
  "cells": [
    {
      "cell_type": "markdown",
      "metadata": {
        "id": "view-in-github",
        "colab_type": "text"
      },
      "source": [
        "<a href=\"https://colab.research.google.com/github/SahSanjeev/SahSanjeev.github.io/blob/main/JSON1401.ipynb\" target=\"_parent\"><img src=\"https://colab.research.google.com/assets/colab-badge.svg\" alt=\"Open In Colab\"/></a>"
      ]
    },
    {
      "cell_type": "code",
      "source": [
        "import json"
      ],
      "metadata": {
        "id": "VpNMDNjrfSG2"
      },
      "execution_count": 10,
      "outputs": []
    },
    {
      "cell_type": "code",
      "source": [
        "import json\n",
        "\n",
        "# Your JSON data (example)\n",
        "json_data = {\n",
        "    \"books\": [\n",
        "        {\"title\": \"The Great Gatsby\", \"author\": \"F. Scott Fitzgerald\", \"published_year\": 1925},\n",
        "        {\"title\": \"To Kill a Mockingbird\", \"author\": \"Harper Lee\", \"published_year\": 1960},\n",
        "        {\"title\": \"1984\", \"author\": \"George Orwell\", \"published_year\": 1949},\n",
        "        {\"title\": \"The Hobbit\", \"author\": \"J.R.R. Tolkien\", \"published_year\": 1937}\n",
        "    ]\n",
        "}\n",
        "\n",
        "# Specify the file path on your C drive\n",
        "file_path = r'C:\\example.json'  # Use 'r' to indicate a raw string to handle backslashes\n",
        "\n",
        "# Write the JSON data to the file\n",
        "with open(file_path, 'w') as json_file:\n",
        "    json.dump(json_data, json_file, indent=2)  # 'indent' for pretty formatting (optional)\n"
      ],
      "metadata": {
        "id": "KNvcBdd0halg"
      },
      "execution_count": 11,
      "outputs": []
    },
    {
      "cell_type": "code",
      "source": [
        "import json\n",
        "\n",
        "# Your JSON data (example)\n",
        "json_data = {\n",
        "    \"books\": [\n",
        "        {\"title\": \"The Great Gatsby\", \"author\": \"F. Scott Fitzgerald\", \"published_year\": 1925},\n",
        "        {\"title\": \"To Kill a Mockingbird\", \"author\": \"Harper Lee\", \"published_year\": 1960},\n",
        "        {\"title\": \"1984\", \"author\": \"George Orwell\", \"published_year\": 1949},\n",
        "        {\"title\": \"The Hobbit\", \"author\": \"J.R.R. Tolkien\", \"published_year\": 1937}\n",
        "    ]\n",
        "}\n",
        "\n",
        "# Specify the file path on your D drive\n",
        "file_path = r'D:\\example.json'  # Use 'r' to indicate a raw string to handle backslashes\n",
        "\n",
        "# Write the JSON data to the file\n",
        "with open(file_path, 'w') as json_file:\n",
        "    json.dump(json_data, json_file, indent=2)  # 'indent' for pretty formatting (optional)\n"
      ],
      "metadata": {
        "id": "AUm4omsJiRrA"
      },
      "execution_count": 12,
      "outputs": []
    },
    {
      "cell_type": "code",
      "source": [
        "! pip install langdetect\n",
        "import json\n",
        "from langdetect import detect\n",
        "\n",
        "# Assuming your JSON data is a list of dictionaries\n",
        "with open(\"/content/D:\\example.json\", \"r\") as f:\n",
        "    data = json.load(f)\n",
        "\n",
        "languages = {}  # Store detected languages\n",
        "\n",
        "for item in data.get(\"books\", []):\n",
        "    text = item.get(\"title\")  # Access \"title\" key from each dictionary\n",
        "    if text:\n",
        "        try:\n",
        "            language = detect(text)\n",
        "            languages[item[\"title\"]] = language  # Store by title or other identifier\n",
        "            print(f\"Text: {text[:50]}...\\nLanguage: {language}\")\n",
        "        except Exception as e:\n",
        "            print(f\"Error detecting language for item {item['title']}: {e}\")\n"
      ],
      "metadata": {
        "colab": {
          "base_uri": "https://localhost:8080/"
        },
        "id": "aFdoe6rDjlGS",
        "outputId": "d0dac49e-f6d0-4055-9555-23688a193477"
      },
      "execution_count": 18,
      "outputs": [
        {
          "output_type": "stream",
          "name": "stdout",
          "text": [
            "Requirement already satisfied: langdetect in /usr/local/lib/python3.10/dist-packages (1.0.9)\n",
            "Requirement already satisfied: six in /usr/local/lib/python3.10/dist-packages (from langdetect) (1.16.0)\n",
            "Text: The Great Gatsby...\n",
            "Language: en\n",
            "Text: To Kill a Mockingbird...\n",
            "Language: en\n",
            "Error detecting language for item 1984: No features in text.\n",
            "Text: The Hobbit...\n",
            "Language: en\n"
          ]
        }
      ]
    },
    {
      "cell_type": "code",
      "source": [],
      "metadata": {
        "id": "su6F4SSVfV4B"
      },
      "execution_count": null,
      "outputs": []
    },
    {
      "cell_type": "code",
      "source": [
        "import json\n",
        "json_data =    {\n",
        "    \"kind\": \"LanguageDetection\",\n",
        "    \"parameters\": {\n",
        "        \"modelVersion\": \"latest\"\n",
        "    },\n",
        "    \"analysisInput\":{\n",
        "        \"documents\":[\n",
        "              {\n",
        "                \"id\": \"1\",\n",
        "                \"text\": \"Hello world\",\n",
        "                \"countryHint\": \"US\"\n",
        "              },\n",
        "              {\n",
        "                \"id\": \"2\",\n",
        "                \"text\": \"Bonjour tout le monde\"\n",
        "              }\n",
        "        ]\n",
        "    }\n",
        "}\n",
        "\n",
        "# Specify the file path in Colab\n",
        "file_path = '/content/language_detection_input.json'\n",
        "\n",
        "# Write the JSON data to the file\n",
        "with open(file_path, 'w') as json_file:\n",
        "    json.dump(json_data, json_file, indent=2)  # 'indent' for pretty formatting (optional)"
      ],
      "metadata": {
        "id": "vchL0nvicaT4"
      },
      "execution_count": 19,
      "outputs": []
    },
    {
      "cell_type": "code",
      "source": [
        "!pip install langdetect\n",
        "import json\n",
        "from langdetect import detect\n",
        "\n",
        "# Assuming your JSON data structure\n",
        "with open(\"/content/language_detection_input.json\", \"r\") as f:\n",
        "    data = json.load(f)\n",
        "\n",
        "# Accessing the necessary parts of the JSON data\n",
        "documents = data.get(\"analysisInput\", {}).get(\"documents\", [])\n",
        "\n",
        "languages = {}  # Store detected languages\n",
        "\n",
        "for item in documents:\n",
        "    text = item.get(\"text\")  # Access \"text\" key from each dictionary\n",
        "    if text:\n",
        "        try:\n",
        "            language = detect(text)\n",
        "            languages[item[\"id\"]] = language  # Store by ID or other identifier\n",
        "            print(f\"Text: {text[:50]}...\\nLanguage: {language}\")\n",
        "        except Exception as e:\n",
        "            print(f\"Error detecting language for item {item['id']}: {e}\")\n"
      ],
      "metadata": {
        "colab": {
          "base_uri": "https://localhost:8080/"
        },
        "id": "uqdrpMmdp11F",
        "outputId": "7ce5ab71-9e76-4a66-bd39-212cb76a8c29"
      },
      "execution_count": 23,
      "outputs": [
        {
          "output_type": "stream",
          "name": "stdout",
          "text": [
            "Requirement already satisfied: langdetect in /usr/local/lib/python3.10/dist-packages (1.0.9)\n",
            "Requirement already satisfied: six in /usr/local/lib/python3.10/dist-packages (from langdetect) (1.16.0)\n",
            "Text: Hello world...\n",
            "Language: nl\n",
            "Text: Bonjour tout le monde...\n",
            "Language: fr\n"
          ]
        }
      ]
    },
    {
      "cell_type": "code",
      "source": [
        "{   \"kind\": \"LanguageDetectionResults\",\n",
        "    \"results\": {\n",
        "        \"documents\": [\n",
        "          {\n",
        "            \"detectedLanguage\": {\n",
        "              \"confidenceScore\": 1,\n",
        "              \"iso6391Name\": \"en\",\n",
        "              \"name\": \"English\"\n",
        "            },\n",
        "            \"id\": \"1\",\n",
        "            \"warnings\": []\n",
        "          },\n",
        "          {\n",
        "            \"detectedLanguage\": {\n",
        "              \"confidenceScore\": 1,\n",
        "              \"iso6391Name\": \"fr\",\n",
        "              \"name\": \"French\"\n",
        "            },\n",
        "            \"id\": \"2\",\n",
        "            \"warnings\": []\n",
        "          }\n",
        "        ],\n",
        "        \"errors\": [],\n",
        "        \"modelVersion\": \"2022-10-01\"\n",
        "    }\n",
        "}"
      ],
      "metadata": {
        "colab": {
          "base_uri": "https://localhost:8080/"
        },
        "id": "EAFXg79Qcfu7",
        "outputId": "25536b99-d7a4-42be-dff7-e25f2699a515"
      },
      "execution_count": 5,
      "outputs": [
        {
          "output_type": "execute_result",
          "data": {
            "text/plain": [
              "{'kind': 'LanguageDetectionResults',\n",
              " 'results': {'documents': [{'detectedLanguage': {'confidenceScore': 1,\n",
              "     'iso6391Name': 'en',\n",
              "     'name': 'English'},\n",
              "    'id': '1',\n",
              "    'warnings': []},\n",
              "   {'detectedLanguage': {'confidenceScore': 1,\n",
              "     'iso6391Name': 'fr',\n",
              "     'name': 'French'},\n",
              "    'id': '2',\n",
              "    'warnings': []}],\n",
              "  'errors': [],\n",
              "  'modelVersion': '2022-10-01'}}"
            ]
          },
          "metadata": {},
          "execution_count": 5
        }
      ]
    },
    {
      "cell_type": "code",
      "source": [
        "{\n",
        "  \"documents\": [\n",
        "    {\n",
        "      \"id\": \"1\",\n",
        "      \"text\": \"Hello, I would like to take a class at your University. ¿Se ofrecen clases en español? Es mi primera lengua y más fácil para escribir. Que diriez-vous des cours en français?\"\n",
        "    }\n",
        "  ]\n",
        "}"
      ],
      "metadata": {
        "colab": {
          "base_uri": "https://localhost:8080/"
        },
        "id": "JCoQa-ijckoY",
        "outputId": "910ecbe7-d2c7-4917-97b4-1fa2486c2161"
      },
      "execution_count": 6,
      "outputs": [
        {
          "output_type": "execute_result",
          "data": {
            "text/plain": [
              "{'documents': [{'id': '1',\n",
              "   'text': 'Hello, I would like to take a class at your University. ¿Se ofrecen clases en español? Es mi primera lengua y más fácil para escribir. Que diriez-vous des cours en français?'}]}"
            ]
          },
          "metadata": {},
          "execution_count": 6
        }
      ]
    },
    {
      "cell_type": "code",
      "source": [
        "{\n",
        "    \"kind\": \"KeyPhraseExtraction\",\n",
        "    \"parameters\": {\n",
        "        \"modelVersion\": \"latest\"\n",
        "    },\n",
        "    \"analysisInput\":{\n",
        "        \"documents\":[\n",
        "            {\n",
        "              \"id\": \"1\",\n",
        "              \"language\": \"en\",\n",
        "              \"text\": \"You must be the change you wish to see in the world.\"\n",
        "            },\n",
        "            {\n",
        "              \"id\": \"2\",\n",
        "              \"language\": \"en\",\n",
        "              \"text\": \"The journey of a thousand miles  begins with a single step.\"\n",
        "            }\n",
        "        ]\n",
        "    }\n",
        "}"
      ],
      "metadata": {
        "colab": {
          "base_uri": "https://localhost:8080/"
        },
        "id": "2Lrx3pzYcx-S",
        "outputId": "c96f31a1-c3d6-4aa2-e6ee-9eb507ebc370"
      },
      "execution_count": 9,
      "outputs": [
        {
          "output_type": "execute_result",
          "data": {
            "text/plain": [
              "{'kind': 'KeyPhraseExtraction',\n",
              " 'parameters': {'modelVersion': 'latest'},\n",
              " 'analysisInput': {'documents': [{'id': '1',\n",
              "    'language': 'en',\n",
              "    'text': 'You must be the change you wish to see in the world.'},\n",
              "   {'id': '2',\n",
              "    'language': 'en',\n",
              "    'text': 'The journey of a thousand miles  begins with a single step.'}]}}"
            ]
          },
          "metadata": {},
          "execution_count": 9
        }
      ]
    },
    {
      "cell_type": "code",
      "execution_count": 1,
      "metadata": {
        "colab": {
          "base_uri": "https://localhost:8080/"
        },
        "id": "FRmE_n4BbZ2A",
        "outputId": "0f7fa134-0fee-4d19-9448-5c09328b29eb"
      },
      "outputs": [
        {
          "output_type": "stream",
          "name": "stdout",
          "text": [
            "tar (child): demjson-1.6.tar.gz: Cannot open: No such file or directory\n",
            "tar (child): Error is not recoverable: exiting now\n",
            "tar: Child returned status 2\n",
            "tar: Error is not recoverable: exiting now\n",
            "/bin/bash: line 1: cd: demjson-1.6: No such file or directory\n",
            "python3: can't open file '/content/setup.py': [Errno 2] No such file or directory\n"
          ]
        }
      ],
      "source": [
        "# prompt: $tar xvfz demjson-1.6.tar.gz $cd demjson-1.6 $python setup.py install\n",
        "\n",
        "!tar xvfz demjson-1.6.tar.gz\n",
        "!cd demjson-1.6\n",
        "!python setup.py install\n"
      ]
    },
    {
      "cell_type": "code",
      "source": [
        "#!/usr/bin/python\n",
        "import demjson\n",
        "\n",
        "data = [ { 'a' : 1, 'b' : 2, 'c' : 3, 'd' : 4, 'e' : 5 } ]\n",
        "\n",
        "json = demjson.encode(data)\n",
        "print(json)"
      ],
      "metadata": {
        "colab": {
          "base_uri": "https://localhost:8080/",
          "height": 383
        },
        "id": "3444EGkncHYD",
        "outputId": "9ac57cea-bd95-4a5a-8401-52d7cf89c6eb"
      },
      "execution_count": 3,
      "outputs": [
        {
          "output_type": "error",
          "ename": "ModuleNotFoundError",
          "evalue": "No module named 'demjson'",
          "traceback": [
            "\u001b[0;31m---------------------------------------------------------------------------\u001b[0m",
            "\u001b[0;31mModuleNotFoundError\u001b[0m                       Traceback (most recent call last)",
            "\u001b[0;32m<ipython-input-3-570d0bcde329>\u001b[0m in \u001b[0;36m<cell line: 2>\u001b[0;34m()\u001b[0m\n\u001b[1;32m      1\u001b[0m \u001b[0;31m#!/usr/bin/python\u001b[0m\u001b[0;34m\u001b[0m\u001b[0;34m\u001b[0m\u001b[0m\n\u001b[0;32m----> 2\u001b[0;31m \u001b[0;32mimport\u001b[0m \u001b[0mdemjson\u001b[0m\u001b[0;34m\u001b[0m\u001b[0;34m\u001b[0m\u001b[0m\n\u001b[0m\u001b[1;32m      3\u001b[0m \u001b[0;34m\u001b[0m\u001b[0m\n\u001b[1;32m      4\u001b[0m \u001b[0mdata\u001b[0m \u001b[0;34m=\u001b[0m \u001b[0;34m[\u001b[0m \u001b[0;34m{\u001b[0m \u001b[0;34m'a'\u001b[0m \u001b[0;34m:\u001b[0m \u001b[0;36m1\u001b[0m\u001b[0;34m,\u001b[0m \u001b[0;34m'b'\u001b[0m \u001b[0;34m:\u001b[0m \u001b[0;36m2\u001b[0m\u001b[0;34m,\u001b[0m \u001b[0;34m'c'\u001b[0m \u001b[0;34m:\u001b[0m \u001b[0;36m3\u001b[0m\u001b[0;34m,\u001b[0m \u001b[0;34m'd'\u001b[0m \u001b[0;34m:\u001b[0m \u001b[0;36m4\u001b[0m\u001b[0;34m,\u001b[0m \u001b[0;34m'e'\u001b[0m \u001b[0;34m:\u001b[0m \u001b[0;36m5\u001b[0m \u001b[0;34m}\u001b[0m \u001b[0;34m]\u001b[0m\u001b[0;34m\u001b[0m\u001b[0;34m\u001b[0m\u001b[0m\n\u001b[1;32m      5\u001b[0m \u001b[0;34m\u001b[0m\u001b[0m\n",
            "\u001b[0;31mModuleNotFoundError\u001b[0m: No module named 'demjson'",
            "",
            "\u001b[0;31m---------------------------------------------------------------------------\u001b[0;32m\nNOTE: If your import is failing due to a missing package, you can\nmanually install dependencies using either !pip or !apt.\n\nTo view examples of installing some common dependencies, click the\n\"Open Examples\" button below.\n\u001b[0;31m---------------------------------------------------------------------------\u001b[0m\n"
          ],
          "errorDetails": {
            "actions": [
              {
                "action": "open_url",
                "actionText": "Open Examples",
                "url": "/notebooks/snippets/importing_libraries.ipynb"
              }
            ]
          }
        }
      ]
    }
  ]
}