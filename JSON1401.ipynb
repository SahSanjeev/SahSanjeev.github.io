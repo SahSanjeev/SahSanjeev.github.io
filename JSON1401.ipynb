{
  "nbformat": 4,
  "nbformat_minor": 0,
  "metadata": {
    "colab": {
      "provenance": [],
      "authorship_tag": "ABX9TyO2Qur0c7K8o8HC6wGxoDv8",
      "include_colab_link": true
    },
    "kernelspec": {
      "name": "python3",
      "display_name": "Python 3"
    },
    "language_info": {
      "name": "python"
    }
  },
  "cells": [
    {
      "cell_type": "markdown",
      "metadata": {
        "id": "view-in-github",
        "colab_type": "text"
      },
      "source": [
        "<a href=\"https://colab.research.google.com/github/SahSanjeev/SahSanjeev.github.io/blob/main/JSON1401.ipynb\" target=\"_parent\"><img src=\"https://colab.research.google.com/assets/colab-badge.svg\" alt=\"Open In Colab\"/></a>"
      ]
    },
    {
      "cell_type": "code",
      "source": [
        "import json"
      ],
      "metadata": {
        "id": "VpNMDNjrfSG2"
      },
      "execution_count": 10,
      "outputs": []
    },
    {
      "cell_type": "code",
      "source": [
        "import json\n",
        "\n",
        "# Your JSON data (example)\n",
        "json_data = {\n",
        "    \"books\": [\n",
        "        {\"title\": \"The Great Gatsby\", \"author\": \"F. Scott Fitzgerald\", \"published_year\": 1925},\n",
        "        {\"title\": \"To Kill a Mockingbird\", \"author\": \"Harper Lee\", \"published_year\": 1960},\n",
        "        {\"title\": \"1984\", \"author\": \"George Orwell\", \"published_year\": 1949},\n",
        "        {\"title\": \"The Hobbit\", \"author\": \"J.R.R. Tolkien\", \"published_year\": 1937}\n",
        "    ]\n",
        "}\n",
        "\n",
        "# Specify the file path on your C drive\n",
        "file_path = r'C:\\example.json'  # Use 'r' to indicate a raw string to handle backslashes\n",
        "\n",
        "# Write the JSON data to the file\n",
        "with open(file_path, 'w') as json_file:\n",
        "    json.dump(json_data, json_file, indent=2)  # 'indent' for pretty formatting (optional)\n"
      ],
      "metadata": {
        "id": "KNvcBdd0halg"
      },
      "execution_count": 11,
      "outputs": []
    },
    {
      "cell_type": "code",
      "source": [
        "import json\n",
        "\n",
        "# Your JSON data (example)\n",
        "json_data = {\n",
        "    \"books\": [\n",
        "        {\"title\": \"The Great Gatsby\", \"author\": \"F. Scott Fitzgerald\", \"published_year\": 1925},\n",
        "        {\"title\": \"To Kill a Mockingbird\", \"author\": \"Harper Lee\", \"published_year\": 1960},\n",
        "        {\"title\": \"1984\", \"author\": \"George Orwell\", \"published_year\": 1949},\n",
        "        {\"title\": \"The Hobbit\", \"author\": \"J.R.R. Tolkien\", \"published_year\": 1937}\n",
        "    ]\n",
        "}\n",
        "\n",
        "# Specify the file path on your D drive\n",
        "file_path = r'D:\\example.json'  # Use 'r' to indicate a raw string to handle backslashes\n",
        "\n",
        "# Write the JSON data to the file\n",
        "with open(file_path, 'w') as json_file:\n",
        "    json.dump(json_data, json_file, indent=2)  # 'indent' for pretty formatting (optional)\n"
      ],
      "metadata": {
        "id": "AUm4omsJiRrA"
      },
      "execution_count": 12,
      "outputs": []
    },
    {
      "cell_type": "code",
      "source": [
        "! pip install langdetect\n",
        "import json\n",
        "from langdetect import detect\n",
        "\n",
        "# Assuming your JSON data is a list of dictionaries\n",
        "with open(\"/content/D:\\example.json\", \"r\") as f:\n",
        "    data = json.load(f)\n",
        "\n",
        "languages = {}  # Store detected languages\n",
        "\n",
        "for item in data.get(\"books\", []):\n",
        "    text = item.get(\"title\")  # Access \"title\" key from each dictionary\n",
        "    if text:\n",
        "        try:\n",
        "            language = detect(text)\n",
        "            languages[item[\"title\"]] = language  # Store by title or other identifier\n",
        "            print(f\"Text: {text[:50]}...\\nLanguage: {language}\")\n",
        "        except Exception as e:\n",
        "            print(f\"Error detecting language for item {item['title']}: {e}\")\n"
      ],
      "metadata": {
        "colab": {
          "base_uri": "https://localhost:8080/"
        },
        "id": "aFdoe6rDjlGS",
        "outputId": "d0dac49e-f6d0-4055-9555-23688a193477"
      },
      "execution_count": 18,
      "outputs": [
        {
          "output_type": "stream",
          "name": "stdout",
          "text": [
            "Requirement already satisfied: langdetect in /usr/local/lib/python3.10/dist-packages (1.0.9)\n",
            "Requirement already satisfied: six in /usr/local/lib/python3.10/dist-packages (from langdetect) (1.16.0)\n",
            "Text: The Great Gatsby...\n",
            "Language: en\n",
            "Text: To Kill a Mockingbird...\n",
            "Language: en\n",
            "Error detecting language for item 1984: No features in text.\n",
            "Text: The Hobbit...\n",
            "Language: en\n"
          ]
        }
      ]
    },
    {
      "cell_type": "code",
      "source": [],
      "metadata": {
        "id": "su6F4SSVfV4B"
      },
      "execution_count": null,
      "outputs": []
    },
    {
      "cell_type": "code",
      "source": [
        "import json\n",
        "json_data =    {\n",
        "    \"kind\": \"LanguageDetection\",\n",
        "    \"parameters\": {\n",
        "        \"modelVersion\": \"latest\"\n",
        "    },\n",
        "    \"analysisInput\":{\n",
        "        \"documents\":[\n",
        "              {\n",
        "                \"id\": \"1\",\n",
        "                \"text\": \"Hello world\",\n",
        "                \"countryHint\": \"US\"\n",
        "              },\n",
        "              {\n",
        "                \"id\": \"2\",\n",
        "                \"text\": \"Bonjour tout le monde\"\n",
        "              }\n",
        "        ]\n",
        "    }\n",
        "}\n",
        "\n",
        "# Specify the file path in Colab\n",
        "file_path = '/content/language_detection_input.json'\n",
        "\n",
        "# Write the JSON data to the file\n",
        "with open(file_path, 'w') as json_file:\n",
        "    json.dump(json_data, json_file, indent=2)  # 'indent' for pretty formatting (optional)"
      ],
      "metadata": {
        "id": "vchL0nvicaT4"
      },
      "execution_count": 19,
      "outputs": []
    },
    {
      "cell_type": "code",
      "source": [
        "!pip install langdetect\n",
        "import json\n",
        "from langdetect import detect\n",
        "\n",
        "# Assuming your JSON data structure\n",
        "with open(\"/content/language_detection_input.json\", \"r\") as f:\n",
        "    data = json.load(f)\n",
        "\n",
        "# Accessing the necessary parts of the JSON data\n",
        "documents = data.get(\"analysisInput\", {}).get(\"documents\", [])\n",
        "\n",
        "languages = {}  # Store detected languages\n",
        "\n",
        "for item in documents:\n",
        "    text = item.get(\"text\")  # Access \"text\" key from each dictionary\n",
        "    if text:\n",
        "        try:\n",
        "            language = detect(text)\n",
        "            languages[item[\"id\"]] = language  # Store by ID or other identifier\n",
        "            print(f\"Text: {text[:50]}...\\nLanguage: {language}\")\n",
        "        except Exception as e:\n",
        "            print(f\"Error detecting language for item {item['id']}: {e}\")\n"
      ],
      "metadata": {
        "colab": {
          "base_uri": "https://localhost:8080/"
        },
        "id": "uqdrpMmdp11F",
        "outputId": "7ce5ab71-9e76-4a66-bd39-212cb76a8c29"
      },
      "execution_count": 23,
      "outputs": [
        {
          "output_type": "stream",
          "name": "stdout",
          "text": [
            "Requirement already satisfied: langdetect in /usr/local/lib/python3.10/dist-packages (1.0.9)\n",
            "Requirement already satisfied: six in /usr/local/lib/python3.10/dist-packages (from langdetect) (1.16.0)\n",
            "Text: Hello world...\n",
            "Language: nl\n",
            "Text: Bonjour tout le monde...\n",
            "Language: fr\n"
          ]
        }
      ]
    },
    {
      "cell_type": "code",
      "source": [
        "{   \"kind\": \"LanguageDetectionResults\",\n",
        "    \"results\": {\n",
        "        \"documents\": [\n",
        "          {\n",
        "            \"detectedLanguage\": {\n",
        "              \"confidenceScore\": 1,\n",
        "              \"iso6391Name\": \"en\",\n",
        "              \"name\": \"English\"\n",
        "            },\n",
        "            \"id\": \"1\",\n",
        "            \"warnings\": []\n",
        "          },\n",
        "          {\n",
        "            \"detectedLanguage\": {\n",
        "              \"confidenceScore\": 1,\n",
        "              \"iso6391Name\": \"fr\",\n",
        "              \"name\": \"French\"\n",
        "            },\n",
        "            \"id\": \"2\",\n",
        "            \"warnings\": []\n",
        "          }\n",
        "        ],\n",
        "        \"errors\": [],\n",
        "        \"modelVersion\": \"2022-10-01\"\n",
        "    }\n",
        "}"
      ],
      "metadata": {
        "colab": {
          "base_uri": "https://localhost:8080/"
        },
        "id": "EAFXg79Qcfu7",
        "outputId": "25536b99-d7a4-42be-dff7-e25f2699a515"
      },
      "execution_count": 5,
      "outputs": [
        {
          "output_type": "execute_result",
          "data": {
            "text/plain": [
              "{'kind': 'LanguageDetectionResults',\n",
              " 'results': {'documents': [{'detectedLanguage': {'confidenceScore': 1,\n",
              "     'iso6391Name': 'en',\n",
              "     'name': 'English'},\n",
              "    'id': '1',\n",
              "    'warnings': []},\n",
              "   {'detectedLanguage': {'confidenceScore': 1,\n",
              "     'iso6391Name': 'fr',\n",
              "     'name': 'French'},\n",
              "    'id': '2',\n",
              "    'warnings': []}],\n",
              "  'errors': [],\n",
              "  'modelVersion': '2022-10-01'}}"
            ]
          },
          "metadata": {},
          "execution_count": 5
        }
      ]
    },
    {
      "cell_type": "code",
      "source": [
        "{\n",
        "  \"documents\": [\n",
        "    {\n",
        "      \"id\": \"1\",\n",
        "      \"text\": \"Hello, I would like to take a class at your University. ¿Se ofrecen clases en español? Es mi primera lengua y más fácil para escribir. Que diriez-vous des cours en français?\"\n",
        "    }\n",
        "  ]\n",
        "}"
      ],
      "metadata": {
        "colab": {
          "base_uri": "https://localhost:8080/"
        },
        "id": "JCoQa-ijckoY",
        "outputId": "910ecbe7-d2c7-4917-97b4-1fa2486c2161"
      },
      "execution_count": 6,
      "outputs": [
        {
          "output_type": "execute_result",
          "data": {
            "text/plain": [
              "{'documents': [{'id': '1',\n",
              "   'text': 'Hello, I would like to take a class at your University. ¿Se ofrecen clases en español? Es mi primera lengua y más fácil para escribir. Que diriez-vous des cours en français?'}]}"
            ]
          },
          "metadata": {},
          "execution_count": 6
        }
      ]
    },
    {
      "cell_type": "code",
      "source": [
        "{\n",
        "    \"kind\": \"KeyPhraseExtraction\",\n",
        "    \"parameters\": {\n",
        "        \"modelVersion\": \"latest\"\n",
        "    },\n",
        "    \"analysisInput\":{\n",
        "        \"documents\":[\n",
        "            {\n",
        "              \"id\": \"1\",\n",
        "              \"language\": \"en\",\n",
        "              \"text\": \"You must be the change you wish to see in the world.\"\n",
        "            },\n",
        "            {\n",
        "              \"id\": \"2\",\n",
        "              \"language\": \"en\",\n",
        "              \"text\": \"The journey of a thousand miles  begins with a single step.\"\n",
        "            }\n",
        "        ]\n",
        "    }\n",
        "}"
      ],
      "metadata": {
        "colab": {
          "base_uri": "https://localhost:8080/"
        },
        "id": "2Lrx3pzYcx-S",
        "outputId": "c96f31a1-c3d6-4aa2-e6ee-9eb507ebc370"
      },
      "execution_count": 9,
      "outputs": [
        {
          "output_type": "execute_result",
          "data": {
            "text/plain": [
              "{'kind': 'KeyPhraseExtraction',\n",
              " 'parameters': {'modelVersion': 'latest'},\n",
              " 'analysisInput': {'documents': [{'id': '1',\n",
              "    'language': 'en',\n",
              "    'text': 'You must be the change you wish to see in the world.'},\n",
              "   {'id': '2',\n",
              "    'language': 'en',\n",
              "    'text': 'The journey of a thousand miles  begins with a single step.'}]}}"
            ]
          },
          "metadata": {},
          "execution_count": 9
        }
      ]
    },
    {
      "cell_type": "code",
      "source": [
        "!pip install langdetect\n",
        "!pip install python-docx\n",
        "\n",
        "import docx\n",
        "from langdetect import detect\n",
        "\n",
        "def detect_language_from_word_file(file_path):\n",
        "    # Load the Word file\n",
        "    doc = docx.Document(file_path)\n",
        "\n",
        "    # Extract text from paragraphs\n",
        "    text = \"\"\n",
        "    for paragraph in doc.paragraphs:\n",
        "        text += paragraph.text + \"\\n\"\n",
        "\n",
        "    # Detect the language\n",
        "    try:\n",
        "        language = detect(text)\n",
        "        print(f\"Text: {text[:50]}...\\nDetected Language: {language}\")\n",
        "    except Exception as e:\n",
        "        print(f\"Error detecting language: {e}\")\n",
        "\n",
        "# Specify the path to your Word file\n",
        "word_file_path = '/content/Language detection.docx'\n",
        "\n",
        "# Call the function to detect language\n",
        "detect_language_from_word_file(word_file_path)\n"
      ],
      "metadata": {
        "colab": {
          "base_uri": "https://localhost:8080/"
        },
        "id": "wf4ac_Cqq3eU",
        "outputId": "8e69942c-d1f7-466c-8592-50da4a48b099"
      },
      "execution_count": 26,
      "outputs": [
        {
          "output_type": "stream",
          "name": "stdout",
          "text": [
            "Requirement already satisfied: langdetect in /usr/local/lib/python3.10/dist-packages (1.0.9)\n",
            "Requirement already satisfied: six in /usr/local/lib/python3.10/dist-packages (from langdetect) (1.16.0)\n",
            "Requirement already satisfied: python-docx in /usr/local/lib/python3.10/dist-packages (1.1.0)\n",
            "Requirement already satisfied: lxml>=3.1.0 in /usr/local/lib/python3.10/dist-packages (from python-docx) (4.9.4)\n",
            "Requirement already satisfied: typing-extensions in /usr/local/lib/python3.10/dist-packages (from python-docx) (4.5.0)\n",
            "Text:  \n",
            "NSDL e-GOVERNANCE INFRASTRUCTURE LIMITED\n",
            "\n",
            "Proced...\n",
            "Detected Language: en\n"
          ]
        }
      ]
    },
    {
      "cell_type": "code",
      "source": [
        "!pip install langid\n",
        "!pip install python-docx\n",
        "\n",
        "import docx\n",
        "import langid\n",
        "\n",
        "def detect_language_from_word_file(file_path):\n",
        "    # Load the Word file\n",
        "    doc = docx.Document(file_path)\n",
        "\n",
        "    # Extract text from paragraphs\n",
        "    text = \"\"\n",
        "    for paragraph in doc.paragraphs:\n",
        "        text += paragraph.text + \"\\n\"\n",
        "\n",
        "    # Detect the language\n",
        "    language, confidence = langid.classify(text)\n",
        "\n",
        "    print(f\"Text: {text[:50]}...\\nDetected Language: {language} (Confidence: {confidence})\")\n",
        "\n",
        "# Specify the path to your Word file\n",
        "word_file_path = '/content/FRENCH POEMENGLISH TRANSLATION.docx'\n",
        "\n",
        "# Call the function to detect language\n",
        "detect_language_from_word_file(word_file_path)\n"
      ],
      "metadata": {
        "colab": {
          "base_uri": "https://localhost:8080/"
        },
        "id": "W1ORMhlwtb5U",
        "outputId": "d9c5fcf4-6e8e-4a20-96ef-7a28b5975ad9"
      },
      "execution_count": 28,
      "outputs": [
        {
          "output_type": "stream",
          "name": "stdout",
          "text": [
            "Requirement already satisfied: langid in /usr/local/lib/python3.10/dist-packages (1.1.6)\n",
            "Requirement already satisfied: numpy in /usr/local/lib/python3.10/dist-packages (from langid) (1.23.5)\n",
            "Requirement already satisfied: python-docx in /usr/local/lib/python3.10/dist-packages (1.1.0)\n",
            "Requirement already satisfied: lxml>=3.1.0 in /usr/local/lib/python3.10/dist-packages (from python-docx) (4.9.4)\n",
            "Requirement already satisfied: typing-extensions in /usr/local/lib/python3.10/dist-packages (from python-docx) (4.5.0)\n",
            "Text: FRENCH POEM\tENGLISH TRANSLATION\n",
            "Sur le chemin de l...\n",
            "Detected Language: fr (Confidence: -5824.938182353973)\n"
          ]
        }
      ]
    },
    {
      "cell_type": "code",
      "source": [
        "!pip install langid\n",
        "\n",
        "import langid\n",
        "\n",
        "def detect_languages(text):\n",
        "    # Detect languages in the text\n",
        "    results = langid.rank(text)\n",
        "\n",
        "    # Display the detected languages and their confidence scores\n",
        "    for lang, confidence in results:\n",
        "        print(f\"Language: {lang} (Confidence: {confidence})\")\n",
        "\n",
        "# Example text with multiple languages\n",
        "multilingual_text = \"\"\"\n",
        "Hello world! Comment ça va? ¿Cómo estás? नमस्ते! Привет, как дела?\n",
        "\"\"\"\n",
        "\n",
        "# Call the function to detect languages\n",
        "detect_languages(multilingual_text)\n"
      ],
      "metadata": {
        "colab": {
          "base_uri": "https://localhost:8080/"
        },
        "id": "LZlBEjJouMU0",
        "outputId": "5508a0ca-36b9-4519-da7a-4e0f035a465f"
      },
      "execution_count": 29,
      "outputs": [
        {
          "output_type": "stream",
          "name": "stdout",
          "text": [
            "Requirement already satisfied: langid in /usr/local/lib/python3.10/dist-packages (1.1.6)\n",
            "Requirement already satisfied: numpy in /usr/local/lib/python3.10/dist-packages (from langid) (1.23.5)\n",
            "Language: ky (Confidence: -590.1741932630539)\n",
            "Language: la (Confidence: -597.7743320465088)\n",
            "Language: qu (Confidence: -602.391131401062)\n",
            "Language: an (Confidence: -627.7242014408112)\n",
            "Language: jv (Confidence: -633.360125541687)\n",
            "Language: oc (Confidence: -640.9780988693237)\n",
            "Language: lb (Confidence: -641.6666197776794)\n",
            "Language: kk (Confidence: -642.0373442173004)\n",
            "Language: sr (Confidence: -654.5499653816223)\n",
            "Language: sw (Confidence: -654.9698224067688)\n",
            "Language: ht (Confidence: -664.0425889492035)\n",
            "Language: se (Confidence: -666.1990324258804)\n",
            "Language: mk (Confidence: -667.4306130409241)\n",
            "Language: ru (Confidence: -669.6066269874573)\n",
            "Language: mn (Confidence: -669.711662530899)\n",
            "Language: lo (Confidence: -671.2421774864197)\n",
            "Language: fo (Confidence: -676.6224298477173)\n",
            "Language: eo (Confidence: -684.4193091392517)\n",
            "Language: hy (Confidence: -691.8336285352707)\n",
            "Language: is (Confidence: -699.6074213981628)\n",
            "Language: uk (Confidence: -700.5803661346436)\n",
            "Language: tl (Confidence: -702.6111357212067)\n",
            "Language: br (Confidence: -702.7989773750305)\n",
            "Language: bg (Confidence: -703.5287389755249)\n",
            "Language: be (Confidence: -705.644063949585)\n",
            "Language: rw (Confidence: -708.6570076942444)\n",
            "Language: bs (Confidence: -712.8166537284851)\n",
            "Language: ka (Confidence: -714.4365947246552)\n",
            "Language: am (Confidence: -720.5729348659515)\n",
            "Language: no (Confidence: -721.894941329956)\n",
            "Language: zu (Confidence: -727.6565011739731)\n",
            "Language: vo (Confidence: -731.4512724876404)\n",
            "Language: cy (Confidence: -734.451159954071)\n",
            "Language: zh (Confidence: -739.9363024234772)\n",
            "Language: az (Confidence: -750.1043934822083)\n",
            "Language: pt (Confidence: -750.1461820602417)\n",
            "Language: ca (Confidence: -751.4116487503052)\n",
            "Language: ms (Confidence: -752.0361866950989)\n",
            "Language: id (Confidence: -753.9040374755859)\n",
            "Language: gl (Confidence: -754.5014986991882)\n",
            "Language: ko (Confidence: -756.0325613021851)\n",
            "Language: ps (Confidence: -762.1075155735016)\n",
            "Language: si (Confidence: -767.6155791282654)\n",
            "Language: vi (Confidence: -767.856207370758)\n",
            "Language: hr (Confidence: -770.7839593887329)\n",
            "Language: sk (Confidence: -773.8011748790741)\n",
            "Language: tr (Confidence: -773.8374719619751)\n",
            "Language: ur (Confidence: -773.854067325592)\n",
            "Language: wa (Confidence: -777.7105288505554)\n",
            "Language: bn (Confidence: -781.399227142334)\n",
            "Language: af (Confidence: -782.9562540054321)\n",
            "Language: mr (Confidence: -784.7175624370575)\n",
            "Language: ga (Confidence: -787.0596861839294)\n",
            "Language: mg (Confidence: -787.6036660671234)\n",
            "Language: ml (Confidence: -791.1821626424789)\n",
            "Language: hi (Confidence: -793.3397568464279)\n",
            "Language: fi (Confidence: -797.603545665741)\n",
            "Language: es (Confidence: -798.890202999115)\n",
            "Language: xh (Confidence: -799.4970631599426)\n",
            "Language: nn (Confidence: -800.7446618080139)\n",
            "Language: sl (Confidence: -804.8221611976624)\n",
            "Language: et (Confidence: -805.1994092464447)\n",
            "Language: da (Confidence: -805.2263851165771)\n",
            "Language: he (Confidence: -809.8789782524109)\n",
            "Language: ku (Confidence: -810.4303829669952)\n",
            "Language: pl (Confidence: -813.4512042999268)\n",
            "Language: sq (Confidence: -814.8789072036743)\n",
            "Language: ug (Confidence: -815.3444063663483)\n",
            "Language: ar (Confidence: -815.7615900039673)\n",
            "Language: en (Confidence: -817.212637424469)\n",
            "Language: ja (Confidence: -817.2349238395691)\n",
            "Language: lv (Confidence: -818.7938418388367)\n",
            "Language: it (Confidence: -821.2524647712708)\n",
            "Language: ro (Confidence: -822.8845303058624)\n",
            "Language: fa (Confidence: -825.6273255348206)\n",
            "Language: cs (Confidence: -826.3975653648376)\n",
            "Language: eu (Confidence: -827.9595060348511)\n",
            "Language: hu (Confidence: -833.9594388008118)\n",
            "Language: ne (Confidence: -836.0924226045609)\n",
            "Language: fr (Confidence: -838.6895203590393)\n",
            "Language: gu (Confidence: -839.3071918487549)\n",
            "Language: nl (Confidence: -839.8215537071228)\n",
            "Language: te (Confidence: -840.0872330665588)\n",
            "Language: km (Confidence: -840.6916069984436)\n",
            "Language: th (Confidence: -842.1288115978241)\n",
            "Language: pa (Confidence: -848.4046071767807)\n",
            "Language: as (Confidence: -848.6838204860687)\n",
            "Language: ta (Confidence: -851.5081028938293)\n",
            "Language: or (Confidence: -852.2888433933258)\n",
            "Language: kn (Confidence: -862.0909280776978)\n",
            "Language: sv (Confidence: -862.5295803546906)\n",
            "Language: lt (Confidence: -862.5808625221252)\n",
            "Language: de (Confidence: -870.3527216911316)\n",
            "Language: el (Confidence: -883.1597509384155)\n",
            "Language: mt (Confidence: -906.3468961715698)\n",
            "Language: nb (Confidence: -923.1304035186768)\n",
            "Language: dz (Confidence: -982.4710583686829)\n"
          ]
        }
      ]
    },
    {
      "cell_type": "code",
      "source": [
        "!pip install langid\n",
        "\n",
        "import langid\n",
        "\n",
        "def detect_languages(text):\n",
        "    # Detect languages in the text\n",
        "    results = langid.rank(text)\n",
        "\n",
        "    # Get the most likely language and its confidence score\n",
        "    most_likely_language, confidence = results[0]\n",
        "\n",
        "    # Print the result\n",
        "    if most_likely_language == 'en':\n",
        "        print(f\"The detected language is English (Confidence: {confidence})\")\n",
        "    else:\n",
        "        print(f\"The detected language is not English. Detected language: {most_likely_language} (Confidence: {confidence})\")\n",
        "\n",
        "# Example text with multiple languages\n",
        "multilingual_text = \"\"\"\n",
        "Hello world! Comment ça va? ¿Cómo estás? नमस्ते! Привет, как дела?\n",
        "\"\"\"\n",
        "\n",
        "# Call the function to detect languages\n",
        "detect_languages(multilingual_text)\n"
      ],
      "metadata": {
        "colab": {
          "base_uri": "https://localhost:8080/"
        },
        "id": "5dDpMyR3vD2Z",
        "outputId": "4231a609-4b34-4a62-ec0b-e258f617ae39"
      },
      "execution_count": 30,
      "outputs": [
        {
          "output_type": "stream",
          "name": "stdout",
          "text": [
            "Requirement already satisfied: langid in /usr/local/lib/python3.10/dist-packages (1.1.6)\n",
            "Requirement already satisfied: numpy in /usr/local/lib/python3.10/dist-packages (from langid) (1.23.5)\n",
            "The detected language is not English. Detected language: ky (Confidence: -590.1741932630539)\n"
          ]
        }
      ]
    },
    {
      "cell_type": "code",
      "source": [],
      "metadata": {
        "id": "FRp4gAehvNx4"
      },
      "execution_count": null,
      "outputs": []
    }
  ]
}